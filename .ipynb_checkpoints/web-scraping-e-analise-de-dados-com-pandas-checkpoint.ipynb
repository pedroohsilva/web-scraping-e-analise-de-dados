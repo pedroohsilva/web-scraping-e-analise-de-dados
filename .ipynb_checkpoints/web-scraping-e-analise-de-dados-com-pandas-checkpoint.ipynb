{
 "cells": [
  {
   "cell_type": "markdown",
   "id": "2d92c2f5",
   "metadata": {},
   "source": [
    "# WebScraping e Análise de Dados com Pandas e Numpy"
   ]
  },
  {
   "cell_type": "markdown",
   "id": "24d882a6",
   "metadata": {},
   "source": [
    "### Introdução:\n",
    "\n",
    "Neste projeto, realizarei a extração automatizada de dados por meio de técnicas básicas de **web scraping**. Após a coleta, os dados serão tratados e analisados utilizando as bibliotecas **Pandas** e **NumPy**, integradas a APIs específicas, visando garantir a precisão e eficiência no processamento das informações."
   ]
  },
  {
   "cell_type": "markdown",
   "id": "acb5405a",
   "metadata": {},
   "source": [
    "**Fonte dos dados:** https://pt.wikipedia.org/wiki/Lista_de_pa%C3%ADses_por_gastos_com_pesquisa_e_desenvolvimento"
   ]
  },
  {
   "cell_type": "markdown",
   "id": "5158ac5f",
   "metadata": {},
   "source": [
    "### Business Case:\n",
    "\n",
    "Uma empresa internacional está buscando oportunidades para expandir seus negócios em países que se destacam em inovação tecnológica. Você foi recrutado como Analista de Dados e recebeu a tarefa de desenvolver um script capaz de extrair informações dos 10 países que mais investiram em **Pesquisa e Desenvolvimento (P&D)** no ano de 2019.\n"
   ]
  },
  {
   "cell_type": "markdown",
   "id": "80f578fc",
   "metadata": {},
   "source": [
    "### Importação das Bibliotecas:"
   ]
  },
  {
   "cell_type": "code",
   "execution_count": 493,
   "id": "64cd052d",
   "metadata": {},
   "outputs": [],
   "source": [
    "# Importação\n",
    "import pandas as pd\n",
    "import numpy as np\n",
    "import matplotlib.pyplot as plt"
   ]
  },
  {
   "attachments": {},
   "cell_type": "markdown",
   "id": "ecf3b012",
   "metadata": {},
   "source": [
    "### Extração de Dados:\n",
    "Iremos usar a biblioteca Pandas para extrair a tabela necessária diretamente como um DataFrame."
   ]
  },
  {
   "cell_type": "code",
   "execution_count": 494,
   "id": "fe30225b",
   "metadata": {},
   "outputs": [],
   "source": [
    "# Link do website\n",
    "url = \"https://pt.wikipedia.org/wiki/Lista_de_pa%C3%ADses_por_gastos_com_pesquisa_e_desenvolvimento\""
   ]
  },
  {
   "cell_type": "code",
   "execution_count": 495,
   "id": "dd7f3514",
   "metadata": {},
   "outputs": [],
   "source": [
    "# Extração dos dados da página web usando o Pandas\n",
    "tabela = pd.read_html(url)"
   ]
  },
  {
   "cell_type": "markdown",
   "id": "225b9e2c",
   "metadata": {},
   "source": [
    "### Tratamento de Dados:"
   ]
  },
  {
   "cell_type": "code",
   "execution_count": 496,
   "id": "0ec0772b",
   "metadata": {},
   "outputs": [],
   "source": [
    "# Selecionando a tabela\n",
    "df = tabela[0]"
   ]
  },
  {
   "cell_type": "code",
   "execution_count": 497,
   "id": "4062e536",
   "metadata": {},
   "outputs": [
    {
     "data": {
      "text/plain": [
       "(90, 7)"
      ]
     },
     "execution_count": 497,
     "metadata": {},
     "output_type": "execute_result"
    }
   ],
   "source": [
    "# Visualizando forma da tabela\n",
    "df.shape"
   ]
  },
  {
   "cell_type": "code",
   "execution_count": 498,
   "id": "af054e94",
   "metadata": {},
   "outputs": [],
   "source": [
    "# Substituindo as colunas por índices\n",
    "df.columns = range(df.shape[1])"
   ]
  },
  {
   "cell_type": "code",
   "execution_count": 499,
   "id": "b989155d",
   "metadata": {},
   "outputs": [],
   "source": [
    "# Fatiando top 10 maiores economias\n",
    "df = df.iloc[0:11,:]"
   ]
  },
  {
   "cell_type": "code",
   "execution_count": 500,
   "id": "7d4c891e",
   "metadata": {},
   "outputs": [],
   "source": [
    "# Selecionando as colunas desejadas\n",
    "df = df[[1,2]]"
   ]
  },
  {
   "cell_type": "code",
   "execution_count": 501,
   "id": "34108bc7",
   "metadata": {},
   "outputs": [],
   "source": [
    "# Nomeando colunas do dataframe\n",
    "df.columns = ['País', 'Gastos (Bilhões USD)']"
   ]
  },
  {
   "cell_type": "code",
   "execution_count": 502,
   "id": "6dca999a",
   "metadata": {},
   "outputs": [
    {
     "name": "stdout",
     "output_type": "stream",
     "text": [
      "Index(['País', 'Gastos (Bilhões USD)'], dtype='object')\n"
     ]
    }
   ],
   "source": [
    "# Verificando resultados\n",
    "print(df.columns)"
   ]
  },
  {
   "cell_type": "markdown",
   "id": "91739341",
   "metadata": {},
   "source": [
    "### Visualização de Dados:"
   ]
  },
  {
   "cell_type": "code",
   "execution_count": 503,
   "id": "398d7eea",
   "metadata": {},
   "outputs": [
    {
     "data": {
      "text/html": [
       "<div>\n",
       "<style scoped>\n",
       "    .dataframe tbody tr th:only-of-type {\n",
       "        vertical-align: middle;\n",
       "    }\n",
       "\n",
       "    .dataframe tbody tr th {\n",
       "        vertical-align: top;\n",
       "    }\n",
       "\n",
       "    .dataframe thead th {\n",
       "        text-align: right;\n",
       "    }\n",
       "</style>\n",
       "<table border=\"1\" class=\"dataframe\">\n",
       "  <thead>\n",
       "    <tr style=\"text-align: right;\">\n",
       "      <th></th>\n",
       "      <th>País</th>\n",
       "      <th>Gastos (Bilhões USD)</th>\n",
       "    </tr>\n",
       "  </thead>\n",
       "  <tbody>\n",
       "    <tr>\n",
       "      <th>0</th>\n",
       "      <td>EUA</td>\n",
       "      <td>612.714</td>\n",
       "    </tr>\n",
       "    <tr>\n",
       "      <th>1</th>\n",
       "      <td>China</td>\n",
       "      <td>514.798</td>\n",
       "    </tr>\n",
       "    <tr>\n",
       "      <th>2</th>\n",
       "      <td>Japão</td>\n",
       "      <td>172.614</td>\n",
       "    </tr>\n",
       "    <tr>\n",
       "      <th>3</th>\n",
       "      <td>Alemanha</td>\n",
       "      <td>131.932</td>\n",
       "    </tr>\n",
       "    <tr>\n",
       "      <th>4</th>\n",
       "      <td>Coreia do Sul</td>\n",
       "      <td>100.055</td>\n",
       "    </tr>\n",
       "    <tr>\n",
       "      <th>5</th>\n",
       "      <td>França</td>\n",
       "      <td>63.658</td>\n",
       "    </tr>\n",
       "    <tr>\n",
       "      <th>6</th>\n",
       "      <td>Índia</td>\n",
       "      <td>58.691</td>\n",
       "    </tr>\n",
       "    <tr>\n",
       "      <th>7</th>\n",
       "      <td>Reino Unido</td>\n",
       "      <td>51.702</td>\n",
       "    </tr>\n",
       "    <tr>\n",
       "      <th>8</th>\n",
       "      <td>Taiwan</td>\n",
       "      <td>42.945</td>\n",
       "    </tr>\n",
       "    <tr>\n",
       "      <th>9</th>\n",
       "      <td>Rússia</td>\n",
       "      <td>38.549</td>\n",
       "    </tr>\n",
       "    <tr>\n",
       "      <th>10</th>\n",
       "      <td>Brasil</td>\n",
       "      <td>37.400</td>\n",
       "    </tr>\n",
       "  </tbody>\n",
       "</table>\n",
       "</div>"
      ],
      "text/plain": [
       "             País  Gastos (Bilhões USD)\n",
       "0             EUA               612.714\n",
       "1           China               514.798\n",
       "2           Japão               172.614\n",
       "3        Alemanha               131.932\n",
       "4   Coreia do Sul               100.055\n",
       "5          França                63.658\n",
       "6           Índia                58.691\n",
       "7     Reino Unido                51.702\n",
       "8          Taiwan                42.945\n",
       "9          Rússia                38.549\n",
       "10         Brasil                37.400"
      ]
     },
     "execution_count": 503,
     "metadata": {},
     "output_type": "execute_result"
    }
   ],
   "source": [
    "# Visualizando dataframe\n",
    "df"
   ]
  },
  {
   "cell_type": "code",
   "execution_count": 507,
   "id": "6a73e619",
   "metadata": {},
   "outputs": [
    {
     "data": {
      "text/html": [
       "<div>\n",
       "<style scoped>\n",
       "    .dataframe tbody tr th:only-of-type {\n",
       "        vertical-align: middle;\n",
       "    }\n",
       "\n",
       "    .dataframe tbody tr th {\n",
       "        vertical-align: top;\n",
       "    }\n",
       "\n",
       "    .dataframe thead th {\n",
       "        text-align: right;\n",
       "    }\n",
       "</style>\n",
       "<table border=\"1\" class=\"dataframe\">\n",
       "  <thead>\n",
       "    <tr style=\"text-align: right;\">\n",
       "      <th></th>\n",
       "      <th>Gastos (Bilhões USD)</th>\n",
       "    </tr>\n",
       "  </thead>\n",
       "  <tbody>\n",
       "    <tr>\n",
       "      <th>count</th>\n",
       "      <td>11.000000</td>\n",
       "    </tr>\n",
       "    <tr>\n",
       "      <th>mean</th>\n",
       "      <td>165.914364</td>\n",
       "    </tr>\n",
       "    <tr>\n",
       "      <th>std</th>\n",
       "      <td>202.421310</td>\n",
       "    </tr>\n",
       "    <tr>\n",
       "      <th>min</th>\n",
       "      <td>37.400000</td>\n",
       "    </tr>\n",
       "    <tr>\n",
       "      <th>25%</th>\n",
       "      <td>47.323500</td>\n",
       "    </tr>\n",
       "    <tr>\n",
       "      <th>50%</th>\n",
       "      <td>63.658000</td>\n",
       "    </tr>\n",
       "    <tr>\n",
       "      <th>75%</th>\n",
       "      <td>152.273000</td>\n",
       "    </tr>\n",
       "    <tr>\n",
       "      <th>max</th>\n",
       "      <td>612.714000</td>\n",
       "    </tr>\n",
       "  </tbody>\n",
       "</table>\n",
       "</div>"
      ],
      "text/plain": [
       "       Gastos (Bilhões USD)\n",
       "count             11.000000\n",
       "mean             165.914364\n",
       "std              202.421310\n",
       "min               37.400000\n",
       "25%               47.323500\n",
       "50%               63.658000\n",
       "75%              152.273000\n",
       "max              612.714000"
      ]
     },
     "execution_count": 507,
     "metadata": {},
     "output_type": "execute_result"
    }
   ],
   "source": [
    "# Estatísticas gerais\n",
    "df.describe()"
   ]
  },
  {
   "cell_type": "code",
   "execution_count": 526,
   "id": "34c41e64",
   "metadata": {
    "scrolled": false
   },
   "outputs": [
    {
     "data": {
      "image/png": "[encoded data removed]",
      "text/plain": [
       "<Figure size 640x480 with 1 Axes>"
      ]
     },
     "metadata": {},
     "output_type": "display_data"
    }
   ],
   "source": [
    "# Criando visualização\n",
    "plt.bar(df['País'], df['Gastos (Bilhões USD)'])\n",
    "plt.xlabel('País')\n",
    "plt.ylabel('Gastos (Bilhões USD)')\n",
    "plt.title('Top 10 países que mais gastaram com Pesquisa e Desenvolvimento em 2019')\n",
    "plt.xticks(rotation=45)\n",
    "plt.show()"
   ]
  },
  {
   "cell_type": "code",
   "execution_count": null,
   "id": "c4d6dd09",
   "metadata": {},
   "outputs": [],
   "source": []
  }
 ],
 "metadata": {
  "kernelspec": {
   "display_name": "Python 3 (ipykernel)",
   "language": "python",
   "name": "python3"
  },
  "language_info": {
   "codemirror_mode": {
    "name": "ipython",
    "version": 3
   },
   "file_extension": ".py",
   "mimetype": "text/x-python",
   "name": "python",
   "nbconvert_exporter": "python",
   "pygments_lexer": "ipython3",
   "version": "3.9.13"
  }
 },
 "nbformat": 4,
 "nbformat_minor": 5
}
